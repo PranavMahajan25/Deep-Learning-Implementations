{
 "cells": [
  {
   "cell_type": "code",
   "execution_count": 185,
   "metadata": {},
   "outputs": [],
   "source": [
    "import gym\n",
    "import numpy as np\n",
    "import matplotlib.pyplot as plt\n",
    "%matplotlib inline"
   ]
  },
  {
   "cell_type": "code",
   "execution_count": 186,
   "metadata": {},
   "outputs": [
    {
     "name": "stderr",
     "output_type": "stream",
     "text": [
      "[2017-09-05 15:50:44,478] Making new env: FrozenLake-v0\n"
     ]
    }
   ],
   "source": [
    "env = gym.make('FrozenLake-v0')"
   ]
  },
  {
   "cell_type": "code",
   "execution_count": 187,
   "metadata": {},
   "outputs": [
    {
     "name": "stdout",
     "output_type": "stream",
     "text": [
      "\n",
      "\u001b[41mS\u001b[0mFFF\n",
      "FHFH\n",
      "FFFH\n",
      "HFFG\n"
     ]
    }
   ],
   "source": [
    "env.reset()\n",
    "env.render()"
   ]
  },
  {
   "cell_type": "code",
   "execution_count": 188,
   "metadata": {},
   "outputs": [
    {
     "name": "stdout",
     "output_type": "stream",
     "text": [
      "Number of actions : 4\n",
      "Number of observable states : 16\n"
     ]
    }
   ],
   "source": [
    "print \"Number of actions : {}\".format(env.action_space.n)\n",
    "print \"Number of observable states : {}\".format(env.observation_space.n)"
   ]
  },
  {
   "cell_type": "code",
   "execution_count": 189,
   "metadata": {},
   "outputs": [],
   "source": [
    "Q_table = np.zeros((env.observation_space.n, env.action_space.n))"
   ]
  },
  {
   "cell_type": "code",
   "execution_count": 190,
   "metadata": {},
   "outputs": [
    {
     "name": "stdout",
     "output_type": "stream",
     "text": [
      "[[ 0.  0.  0.  0.]\n",
      " [ 0.  0.  0.  0.]\n",
      " [ 0.  0.  0.  0.]\n",
      " [ 0.  0.  0.  0.]\n",
      " [ 0.  0.  0.  0.]\n",
      " [ 0.  0.  0.  0.]\n",
      " [ 0.  0.  0.  0.]\n",
      " [ 0.  0.  0.  0.]\n",
      " [ 0.  0.  0.  0.]\n",
      " [ 0.  0.  0.  0.]\n",
      " [ 0.  0.  0.  0.]\n",
      " [ 0.  0.  0.  0.]\n",
      " [ 0.  0.  0.  0.]\n",
      " [ 0.  0.  0.  0.]\n",
      " [ 0.  0.  0.  0.]\n",
      " [ 0.  0.  0.  0.]]\n"
     ]
    }
   ],
   "source": [
    "print Q_table"
   ]
  },
  {
   "cell_type": "code",
   "execution_count": 191,
   "metadata": {},
   "outputs": [],
   "source": [
    "n_episodes = 2000\n",
    "lr = 0.8\n",
    "gamma = 0.95\n",
    "rList = []\n",
    "sList = []"
   ]
  },
  {
   "cell_type": "code",
   "execution_count": 192,
   "metadata": {},
   "outputs": [],
   "source": [
    "for i in range(n_episodes):\n",
    "    s = env.reset()\n",
    "    tot_reward = 0\n",
    "    done = False\n",
    "    for step in range(100):\n",
    "        a = np.argmax(Q_table[s,:] + np.random.randn(1,env.action_space.n)*(1./(i+1)))\n",
    "        next_state, reward, done, _ = env.step(a)\n",
    "        Q_table[s,a] = (1-lr)*Q_table[s,a] + lr * (reward + gamma * np.max(Q_table[next_state,:]))\n",
    "        tot_reward += reward\n",
    "        s = next_state\n",
    "        if done == True:\n",
    "            break\n",
    "    rList.append(tot_reward)\n",
    "    sList.append(step+1)"
   ]
  },
  {
   "cell_type": "code",
   "execution_count": 193,
   "metadata": {},
   "outputs": [],
   "source": [
    "def plot_list(arr, y_label, interval=100):\n",
    "    plot_values = []\n",
    "    for i in range(0,len(arr)-interval,interval):\n",
    "        plot_values.append(sum(arr[i:i+100])/100)\n",
    "    plt.plot(plot_values)\n",
    "    plt.ylabel(y_label)\n",
    "    plt.xlabel(\"Time\")\n",
    "    plt.show()"
   ]
  },
  {
   "cell_type": "code",
   "execution_count": 194,
   "metadata": {},
   "outputs": [
    {
     "data": {
      "image/png": "[encoded data removed]",
      "text/plain": [
       "<matplotlib.figure.Figure at 0x1131767d0>"
      ]
     },
     "metadata": {},
     "output_type": "display_data"
    }
   ],
   "source": [
    "plot_list(rList, \"Rewards\")"
   ]
  },
  {
   "cell_type": "code",
   "execution_count": 195,
   "metadata": {},
   "outputs": [
    {
     "data": {
      "image/png": "[encoded data removed]",
      "text/plain": [
       "<matplotlib.figure.Figure at 0x1124b8950>"
      ]
     },
     "metadata": {},
     "output_type": "display_data"
    }
   ],
   "source": [
    "plot_list(sList, \"Steps\")"
   ]
  },
  {
   "cell_type": "code",
   "execution_count": 196,
   "metadata": {},
   "outputs": [
    {
     "name": "stdout",
     "output_type": "stream",
     "text": [
      "[[  2.33924538e-03   3.91476949e-03   1.38052418e-01   2.28185238e-03]\n",
      " [  5.00952195e-04   7.61875706e-04   4.50471750e-04   3.29434308e-02]\n",
      " [  4.03651926e-04   9.81022165e-04   2.46606538e-03   1.87304226e-02]\n",
      " [  2.06093145e-05   3.74177745e-04   8.18047922e-05   1.11152248e-02]\n",
      " [  1.25321017e-01   1.45121535e-03   8.75357383e-04   9.99482712e-05]\n",
      " [  0.00000000e+00   0.00000000e+00   0.00000000e+00   0.00000000e+00]\n",
      " [  5.95435797e-04   1.88358187e-06   1.59308799e-04   1.20099627e-05]\n",
      " [  0.00000000e+00   0.00000000e+00   0.00000000e+00   0.00000000e+00]\n",
      " [  7.01374910e-05   4.81602608e-03   2.61609667e-03   5.06047790e-02]\n",
      " [  1.05645882e-03   4.83303781e-01   1.22518644e-03   2.92582590e-04]\n",
      " [  1.50539336e-03   2.19279732e-04   4.85125457e-04   1.94701071e-05]\n",
      " [  0.00000000e+00   0.00000000e+00   0.00000000e+00   0.00000000e+00]\n",
      " [  0.00000000e+00   0.00000000e+00   0.00000000e+00   0.00000000e+00]\n",
      " [  1.39934975e-03   5.12650965e-03   5.78592815e-01   1.19735743e-03]\n",
      " [  0.00000000e+00   0.00000000e+00   0.00000000e+00   1.23762218e-01]\n",
      " [  0.00000000e+00   0.00000000e+00   0.00000000e+00   0.00000000e+00]]\n"
     ]
    }
   ],
   "source": [
    "print Q_table"
   ]
  },
  {
   "cell_type": "code",
   "execution_count": null,
   "metadata": {
    "collapsed": true
   },
   "outputs": [],
   "source": []
  }
 ],
 "metadata": {
  "anaconda-cloud": {},
  "kernelspec": {
   "display_name": "Python 2",
   "language": "python",
   "name": "python2"
  },
  "language_info": {
   "codemirror_mode": {
    "name": "ipython",
    "version": 2
   },
   "file_extension": ".py",
   "mimetype": "text/x-python",
   "name": "python",
   "nbconvert_exporter": "python",
   "pygments_lexer": "ipython2",
   "version": "2.7.12"
  }
 },
 "nbformat": 4,
 "nbformat_minor": 1
}
