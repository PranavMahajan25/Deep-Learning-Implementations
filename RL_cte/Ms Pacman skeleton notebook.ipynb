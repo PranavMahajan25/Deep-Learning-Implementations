{
 "cells": [
  {
   "cell_type": "code",
   "execution_count": 2,
   "metadata": {
    "collapsed": true
   },
   "outputs": [],
   "source": [
    "import random\n",
    "import os\n",
    "import operator\n",
    "\n",
    "from skimage import io, color, transform\n",
    "\n",
    "import numpy as np"
   ]
  },
  {
   "cell_type": "code",
   "execution_count": 3,
   "metadata": {},
   "outputs": [
    {
     "ename": "SyntaxError",
     "evalue": "invalid syntax (<ipython-input-3-327c45e07a21>, line 3)",
     "output_type": "error",
     "traceback": [
      "\u001b[0;36m  File \u001b[0;32m\"<ipython-input-3-327c45e07a21>\"\u001b[0;36m, line \u001b[0;32m3\u001b[0m\n\u001b[0;31m    def __init__(self, epsilon= , experience_replay_capacity= , minibatch_size= , learning_rate= ):\u001b[0m\n\u001b[0m                                ^\u001b[0m\n\u001b[0;31mSyntaxError\u001b[0m\u001b[0;31m:\u001b[0m invalid syntax\n"
     ]
    }
   ],
   "source": [
    "-"
   ]
  },
  {
   "cell_type": "code",
   "execution_count": 4,
   "metadata": {},
   "outputs": [
    {
     "ename": "SyntaxError",
     "evalue": "invalid syntax (<ipython-input-4-6a5ae8394cba>, line 20)",
     "output_type": "error",
     "traceback": [
      "\u001b[0;36m  File \u001b[0;32m\"<ipython-input-4-6a5ae8394cba>\"\u001b[0;36m, line \u001b[0;32m20\u001b[0m\n\u001b[0;31m    MAX_TIMESTEPS =\u001b[0m\n\u001b[0m                    ^\u001b[0m\n\u001b[0;31mSyntaxError\u001b[0m\u001b[0;31m:\u001b[0m invalid syntax\n"
     ]
    }
   ],
   "source": [
    "import gym\n",
    "\n",
    "from skimage import io, color, transform\n",
    "import numpy as np\n",
    "import os\n",
    "import random\n",
    "\n",
    "from agent import Agent\n",
    "\n",
    "\n",
    "#####\n",
    "# Hyperparameters\n",
    "#####\n",
    "\n",
    "GAME_TYPE = 'MsPacman-v0'\n",
    "\n",
    "\n",
    "#environment parameters\n",
    "NUM_EPISODES = 80000000\n",
    "MAX_TIMESTEPS = \n",
    "FRAME_SKIP = \n",
    "PHI_LENGTH = 4\n",
    "\n",
    "#agent parameters\n",
    "NAIVE_RANDOM = \n",
    "EPSILON = 1\n",
    "EXPERIENCE_REPLAY_CAPACITY = \n",
    "MINIBATCH_SIZE = \n",
    "LEARNING_RATE = 0.001\n",
    "PREPROCESS_IMAGE_DIM = 84\n",
    "\n",
    "def preprocess_observation(observation):\n",
    "    \"\"\"\n",
    "    preprocesses a given observation following the steps described in the paper\n",
    "    \"\"\"\n",
    "    grayscale_observation = color.rgb2gray(observation)\n",
    "    resized_observation = transform.resize(grayscale_observation, (PREPROCESS_IMAGE_DIM, PREPROCESS_IMAGE_DIM)).astype('float32')\n",
    "    return resized_observation\n",
    "\n",
    "def run_simulation():\n",
    "    \"\"\"\n",
    "    Entry-point for running Ms. Pac-man simulation\n",
    "    \"\"\"\n",
    "\n",
    "\n",
    "\n",
    "    #print game parameters\n",
    "    print (\"~~~Environment Parameters~~~\")\n",
    "    print (\"Num episodes: %s\" % NUM_EPISODES)\n",
    "    print (\"Max timesteps: %s\" % MAX_TIMESTEPS)\n",
    "    print (\"Action space: %s\" % env.action_space)\n",
    "    print()\n",
    "    print (\"~~~Agent Parameters~~~\")\n",
    "    print (\"Naive Random: %s\" % NAIVE_RANDOM)\n",
    "    print (\"Epsilon: %s\" % EPSILON)\n",
    "    print (\"Experience Replay Capacity: %s\" % EXPERIENCE_REPLAY_CAPACITY)\n",
    "    print (\"Minibatch Size: %s\" % MINIBATCH_SIZE)\n",
    "    print (\"Learning Rate: %s\" % LEARNING_RATE)\n",
    "\n",
    "    #initialize agent\n",
    "    agent = Agent(epsilon=EPSILON,\n",
    "                experience_replay_capacity=EXPERIENCE_REPLAY_CAPACITY,\n",
    "                minibatch_size=MINIBATCH_SIZE,\n",
    "                learning_rate=LEARNING_RATE)\n",
    "\n",
    "    #initialize auxiliary data structures\n",
    "    state_list = [] \n",
    "    tot_frames = 0\n",
    "\n",
    "    for i_episode in range(NUM_EPISODES):\n",
    "        print (\"Episode: %s\" % i_episode)\n",
    "\n",
    "\n",
    "        \n",
    "\n",
    "        while True:\n",
    "\n",
    "            \n",
    "            \n",
    "            #ensure state list is populated\n",
    "            if tot_frames < PHI_LENGTH:\n",
    "                state_list.append(preprocess_observation(observation))\n",
    "                tot_frames += 1\n",
    "                continue\n",
    "\n",
    "\n",
    "\n",
    "                #update state list with next observation\n",
    "                state_list.append(preprocess_observation(observation))\n",
    "                state_list.pop(0)"
   ]
  },
  {
   "cell_type": "code",
   "execution_count": null,
   "metadata": {
    "collapsed": true
   },
   "outputs": [],
   "source": [
    "run_simulation()\n"
   ]
  },
  {
   "cell_type": "code",
   "execution_count": null,
   "metadata": {},
   "outputs": [],
   "source": []
  },
  {
   "cell_type": "code",
   "execution_count": null,
   "metadata": {
    "collapsed": true
   },
   "outputs": [],
   "source": []
  }
 ],
 "metadata": {
  "kernelspec": {
   "display_name": "Python 2",
   "language": "python",
   "name": "python2"
  },
  "language_info": {
   "codemirror_mode": {
    "name": "ipython",
    "version": 2
   },
   "file_extension": ".py",
   "mimetype": "text/x-python",
   "name": "python",
   "nbconvert_exporter": "python",
   "pygments_lexer": "ipython2",
   "version": "2.7.12"
  }
 },
 "nbformat": 4,
 "nbformat_minor": 2
}
