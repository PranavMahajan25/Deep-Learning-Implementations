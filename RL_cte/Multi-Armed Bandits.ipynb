{
 "cells": [
  {
   "cell_type": "code",
   "execution_count": 12,
   "metadata": {
    "collapsed": true
   },
   "outputs": [],
   "source": [
    "import numpy as np\n",
    "np.random.seed(42)"
   ]
  },
  {
   "cell_type": "code",
   "execution_count": 13,
   "metadata": {
    "collapsed": true
   },
   "outputs": [],
   "source": [
    "boxes = np.array([[0.2,2,-0.3,-3], \n",
    "                  [-4,-1,0.3,3], \n",
    "                  [-2,-0.5,0.6,1]])\n",
    "num_boxes = 3\n",
    "num_buttons = 4\n"
   ]
  },
  {
   "cell_type": "code",
   "execution_count": 14,
   "metadata": {
    "collapsed": true
   },
   "outputs": [],
   "source": [
    "def getReward(button):\n",
    "    x = np.random.randn(1)\n",
    "    if x > button:\n",
    "        return 1\n",
    "    else:\n",
    "        return -1"
   ]
  },
  {
   "cell_type": "code",
   "execution_count": 15,
   "metadata": {
    "collapsed": true
   },
   "outputs": [],
   "source": [
    "def getRandomBox():\n",
    "    state = np.random.randint(0,num_boxes)\n",
    "    return state"
   ]
  },
  {
   "cell_type": "code",
   "execution_count": 30,
   "metadata": {
    "collapsed": true
   },
   "outputs": [],
   "source": [
    "weights = np.ones([num_boxes,num_buttons])*100"
   ]
  },
  {
   "cell_type": "code",
   "execution_count": 31,
   "metadata": {},
   "outputs": [
    {
     "name": "stdout",
     "output_type": "stream",
     "text": [
      "[[ 100.  100.  100.  100.]\n",
      " [ 100.  100.  100.  100.]\n",
      " [ 100.  100.  100.  100.]]\n"
     ]
    }
   ],
   "source": [
    "print(weights)"
   ]
  },
  {
   "cell_type": "code",
   "execution_count": 23,
   "metadata": {
    "collapsed": true
   },
   "outputs": [],
   "source": [
    "def getWeight(state, action):\n",
    "    return weights[state][action]"
   ]
  },
  {
   "cell_type": "code",
   "execution_count": 24,
   "metadata": {
    "collapsed": true
   },
   "outputs": [],
   "source": [
    "total_episodes = 1000\n",
    "total_rewards = np.zeros([num_boxes,num_buttons])\n",
    "lr = 0.001"
   ]
  },
  {
   "cell_type": "code",
   "execution_count": 25,
   "metadata": {},
   "outputs": [
    {
     "name": "stdout",
     "output_type": "stream",
     "text": [
      "Total reward for each of the 3 boxes : \n",
      "[[ 0.  0.  0.  1.]\n",
      " [ 0.  0.  0.  0.]\n",
      " [ 0.  0.  0.  0.]]\n",
      "Total reward for each of the 3 boxes : \n",
      "[[-2. -5.  0.  1.]\n",
      " [ 7.  1. -6. -4.]\n",
      " [ 2.  4. -2. -5.]]\n",
      "Total reward for each of the 3 boxes : \n",
      "[[ -6.  -9.  -1.   4.]\n",
      " [  9.   4.  -9. -10.]\n",
      " [  9.   6.  -2.  -4.]]\n",
      "Total reward for each of the 3 boxes : \n",
      "[[ -6. -13.   5.  11.]\n",
      " [ 12.   7.  -9. -15.]\n",
      " [ 14.   6.  -4.  -7.]]\n",
      "Total reward for each of the 3 boxes : \n",
      "[[ -7. -19.   1.  13.]\n",
      " [ 15.  13.  -8. -15.]\n",
      " [ 19.   7.  -5. -13.]]\n",
      "Total reward for each of the 3 boxes : \n",
      "[[-12. -19.   3.  19.]\n",
      " [ 18.  14.  -8. -19.]\n",
      " [ 26.  12.  -7. -16.]]\n",
      "Total reward for each of the 3 boxes : \n",
      "[[-13. -20.   9.  22.]\n",
      " [ 22.  18.  -8. -24.]\n",
      " [ 29.  12.  -7. -19.]]\n",
      "Total reward for each of the 3 boxes : \n",
      "[[-18. -25.   8.  24.]\n",
      " [ 27.  19.  -7. -28.]\n",
      " [ 30.  13.  -9. -23.]]\n",
      "Total reward for each of the 3 boxes : \n",
      "[[-16. -30.   8.  29.]\n",
      " [ 33.  23.  -6. -32.]\n",
      " [ 34.  15. -10. -27.]]\n",
      "Total reward for each of the 3 boxes : \n",
      "[[-15. -33.   8.  32.]\n",
      " [ 37.  28.  -6. -36.]\n",
      " [ 36.  19.  -9. -30.]]\n",
      "Total reward for each of the 3 boxes : \n",
      "[[-18. -35.   8.  36.]\n",
      " [ 38.  31.  -9. -43.]\n",
      " [ 41.  20.  -9. -33.]]\n",
      "Total reward for each of the 3 boxes : \n",
      "[[-17. -36.   7.  42.]\n",
      " [ 43.  34.  -9. -49.]\n",
      " [ 43.  22.  -9. -40.]]\n",
      "Total reward for each of the 3 boxes : \n",
      "[[-20. -38.   5.  44.]\n",
      " [ 49.  37. -11. -49.]\n",
      " [ 45.  29. -12. -46.]]\n",
      "Total reward for each of the 3 boxes : \n",
      "[[-20. -43.   6.  45.]\n",
      " [ 53.  40. -11. -55.]\n",
      " [ 50.  31. -17. -46.]]\n",
      "Total reward for each of the 3 boxes : \n",
      "[[-22. -47.   8.  51.]\n",
      " [ 59.  43. -12. -56.]\n",
      " [ 54.  32. -18. -49.]]\n",
      "Total reward for each of the 3 boxes : \n",
      "[[-25. -52.   8.  56.]\n",
      " [ 61.  46. -10. -59.]\n",
      " [ 60.  33. -22. -53.]]\n",
      "Total reward for each of the 3 boxes : \n",
      "[[-23. -54.  10.  62.]\n",
      " [ 64.  52. -11. -62.]\n",
      " [ 63.  32. -25. -59.]]\n",
      "Total reward for each of the 3 boxes : \n",
      "[[-24. -57.   7.  64.]\n",
      " [ 66.  53. -13. -64.]\n",
      " [ 71.  33. -27. -64.]]\n",
      "Total reward for each of the 3 boxes : \n",
      "[[-31. -59.   6.  71.]\n",
      " [ 74.  56.  -9. -67.]\n",
      " [ 73.  35. -26. -66.]]\n",
      "Total reward for each of the 3 boxes : \n",
      "[[-31. -62.   8.  73.]\n",
      " [ 75.  62.  -7. -72.]\n",
      " [ 78.  37. -25. -69.]]\n"
     ]
    }
   ],
   "source": [
    "i = 0\n",
    "while i < total_episodes:\n",
    "    \n",
    "    state = getRandomBox()\n",
    "    \n",
    "    action = np.random.randint(0,num_buttons)\n",
    "    \n",
    "    w = getWeight(state, action)\n",
    "    \n",
    "    reward = getReward(boxes[state][action])\n",
    "    \n",
    "    loss = - (np.log(w)*reward)\n",
    "    \n",
    "    weights[state][action] = weights[state][action] + lr*(reward)*(1/w)\n",
    "    \n",
    "    total_rewards[state][action] += reward\n",
    "    \n",
    "    if i%50 == 0:\n",
    "        print(\"Total reward for each of the \"+str(num_boxes)+\" boxes : \\n\"+str(total_rewards))\n",
    "        \n",
    "    i+=1"
   ]
  },
  {
   "cell_type": "code",
   "execution_count": 29,
   "metadata": {},
   "outputs": [
    {
     "name": "stdout",
     "output_type": "stream",
     "text": [
      "I think that button 4 for the box 1 is the best\n",
      "Correct\n",
      "I think that button 1 for the box 2 is the best\n",
      "Correct\n",
      "I think that button 1 for the box 3 is the best\n",
      "Correct\n"
     ]
    }
   ],
   "source": [
    "for a in range(num_boxes):\n",
    "    print(\"I think that button \"+ str(np.argmax(weights[a])+1) + \" for the box \"+str(a+1)+\" is the best\")\n",
    "    if np.argmax(weights[a]) == np.argmin(boxes[a]):\n",
    "        print(\"Correct\")"
   ]
  },
  {
   "cell_type": "code",
   "execution_count": null,
   "metadata": {
    "collapsed": true
   },
   "outputs": [],
   "source": []
  },
  {
   "cell_type": "code",
   "execution_count": null,
   "metadata": {
    "collapsed": true
   },
   "outputs": [],
   "source": []
  },
  {
   "cell_type": "code",
   "execution_count": null,
   "metadata": {
    "collapsed": true
   },
   "outputs": [],
   "source": []
  },
  {
   "cell_type": "code",
   "execution_count": null,
   "metadata": {
    "collapsed": true
   },
   "outputs": [],
   "source": []
  },
  {
   "cell_type": "code",
   "execution_count": null,
   "metadata": {
    "collapsed": true
   },
   "outputs": [],
   "source": []
  }
 ],
 "metadata": {
  "kernelspec": {
   "display_name": "Python 2",
   "language": "python",
   "name": "python2"
  },
  "language_info": {
   "codemirror_mode": {
    "name": "ipython",
    "version": 2
   },
   "file_extension": ".py",
   "mimetype": "text/x-python",
   "name": "python",
   "nbconvert_exporter": "python",
   "pygments_lexer": "ipython2",
   "version": "2.7.12"
  }
 },
 "nbformat": 4,
 "nbformat_minor": 2
}
