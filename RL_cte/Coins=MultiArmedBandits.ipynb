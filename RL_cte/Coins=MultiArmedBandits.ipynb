{
 "cells": [
  {
   "cell_type": "code",
   "execution_count": 31,
   "metadata": {
    "collapsed": true
   },
   "outputs": [],
   "source": [
    "# assignment- heads n tails - state,action --> rewards \n",
    "\n",
    "import numpy as np\n",
    "import math\n",
    "np.random.seed(42)\n",
    "#prime => +1\n",
    "#not prime => -1\n"
   ]
  },
  {
   "cell_type": "code",
   "execution_count": 32,
   "metadata": {
    "collapsed": true
   },
   "outputs": [],
   "source": [
    "coinsvalues = ([[3,4],\n",
    "                [11,12],\n",
    "                [32,31],\n",
    "                [18,17],\n",
    "                [42,41]])\n",
    "num_coins = 5\n",
    "num_options = 2 #heads(0) or tails(1) => action = 0 or 1\n",
    "\n",
    "def isprime(n):\n",
    "    i=2\n",
    "    k= math.sqrt(n)\n",
    "    b = False\n",
    "    while i< k:\n",
    "        if n%i==0:\n",
    "            b = True\n",
    "        i+=1    \n",
    "    return b        \n",
    "        \n",
    "def getReward(valueofchoice):\n",
    "    #valueofchoice = coinsvalues[state][action] \n",
    "     \n",
    "    if isprime(valueofchoice) == True:\n",
    "        return 1\n",
    "    else:\n",
    "        return -1"
   ]
  },
  {
   "cell_type": "code",
   "execution_count": 33,
   "metadata": {
    "collapsed": true
   },
   "outputs": [],
   "source": [
    "def getRandomCoin():\n",
    "    state = np.random.randint(0,num_coins)\n",
    "    return state\n"
   ]
  },
  {
   "cell_type": "code",
   "execution_count": 34,
   "metadata": {},
   "outputs": [
    {
     "name": "stdout",
     "output_type": "stream",
     "text": [
      "[[ 1.  1.]\n",
      " [ 1.  1.]\n",
      " [ 1.  1.]\n",
      " [ 1.  1.]\n",
      " [ 1.  1.]]\n"
     ]
    }
   ],
   "source": [
    "weights = np.ones([num_coins,num_options]) #{no.of cols, no.of rows}\n",
    "print weights"
   ]
  },
  {
   "cell_type": "code",
   "execution_count": 35,
   "metadata": {
    "collapsed": true
   },
   "outputs": [],
   "source": [
    "def getWeight(state, action):\n",
    "    return weights[state][action] #built-in"
   ]
  },
  {
   "cell_type": "code",
   "execution_count": 36,
   "metadata": {
    "collapsed": true
   },
   "outputs": [],
   "source": [
    "total_episodes = 1000\n",
    "total_rewards = np.zeros([num_coins,num_options])\n",
    "i = 0 # loop parameter\n",
    "lr = 0.001 # Learning rate"
   ]
  },
  {
   "cell_type": "code",
   "execution_count": 37,
   "metadata": {},
   "outputs": [
    {
     "name": "stdout",
     "output_type": "stream",
     "text": [
      "rewards :\n",
      "[[ 0.  0.]\n",
      " [ 0.  0.]\n",
      " [ 0.  0.]\n",
      " [ 1.  0.]\n",
      " [ 0.  0.]]\n",
      "rewards :\n",
      "[[-4. -4.]\n",
      " [-2.  9.]\n",
      " [ 2. -4.]\n",
      " [ 6. -8.]\n",
      " [ 5. -7.]]\n",
      "rewards :\n",
      "[[ -9. -11.]\n",
      " [ -5.  10.]\n",
      " [ 12.  -7.]\n",
      " [ 10. -16.]\n",
      " [ 11. -10.]]\n",
      "rewards :\n",
      "[[-15. -21.]\n",
      " [ -9.  14.]\n",
      " [ 17. -13.]\n",
      " [ 17. -20.]\n",
      " [ 12. -13.]]\n",
      "rewards :\n",
      "[[-20. -28.]\n",
      " [-14.  18.]\n",
      " [ 19. -23.]\n",
      " [ 21. -24.]\n",
      " [ 17. -17.]]\n",
      "rewards :\n",
      "[[-22. -35.]\n",
      " [-21.  24.]\n",
      " [ 23. -26.]\n",
      " [ 23. -30.]\n",
      " [ 23. -24.]]\n",
      "rewards :\n",
      "[[-27. -39.]\n",
      " [-26.  29.]\n",
      " [ 26. -31.]\n",
      " [ 28. -36.]\n",
      " [ 29. -30.]]\n",
      "rewards :\n",
      "[[-32. -42.]\n",
      " [-31.  32.]\n",
      " [ 31. -36.]\n",
      " [ 34. -42.]\n",
      " [ 37. -34.]]\n",
      "rewards :\n",
      "[[-41. -49.]\n",
      " [-33.  38.]\n",
      " [ 32. -39.]\n",
      " [ 40. -47.]\n",
      " [ 43. -39.]]\n",
      "rewards :\n",
      "[[-48. -58.]\n",
      " [-36.  46.]\n",
      " [ 39. -39.]\n",
      " [ 42. -51.]\n",
      " [ 47. -45.]]\n",
      "rewards :\n",
      "[[-55. -61.]\n",
      " [-43.  52.]\n",
      " [ 49. -41.]\n",
      " [ 45. -55.]\n",
      " [ 48. -52.]]\n",
      "rewards :\n",
      "[[-61. -66.]\n",
      " [-48.  58.]\n",
      " [ 54. -46.]\n",
      " [ 53. -58.]\n",
      " [ 50. -57.]]\n",
      "rewards :\n",
      "[[-65. -69.]\n",
      " [-49.  63.]\n",
      " [ 65. -49.]\n",
      " [ 56. -64.]\n",
      " [ 56. -65.]]\n",
      "rewards :\n",
      "[[-71. -73.]\n",
      " [-59.  67.]\n",
      " [ 69. -53.]\n",
      " [ 63. -69.]\n",
      " [ 59. -68.]]\n",
      "rewards :\n",
      "[[-78. -76.]\n",
      " [-63.  71.]\n",
      " [ 74. -59.]\n",
      " [ 68. -73.]\n",
      " [ 65. -74.]]\n",
      "rewards :\n",
      "[[-80. -82.]\n",
      " [-70.  77.]\n",
      " [ 78. -65.]\n",
      " [ 71. -76.]\n",
      " [ 72. -80.]]\n",
      "rewards :\n",
      "[[-87. -87.]\n",
      " [-79.  79.]\n",
      " [ 83. -75.]\n",
      " [ 75. -78.]\n",
      " [ 75. -83.]]\n",
      "rewards :\n",
      "[[-95. -91.]\n",
      " [-85.  83.]\n",
      " [ 85. -79.]\n",
      " [ 81. -82.]\n",
      " [ 81. -89.]]\n",
      "rewards :\n",
      "[[-102.  -95.]\n",
      " [ -89.   88.]\n",
      " [  92.  -85.]\n",
      " [  85.  -84.]\n",
      " [  87.  -94.]]\n",
      "rewards :\n",
      "[[-105.  -99.]\n",
      " [ -94.   96.]\n",
      " [  98.  -89.]\n",
      " [  90.  -89.]\n",
      " [  93.  -98.]]\n"
     ]
    }
   ],
   "source": [
    "while i < total_episodes:\n",
    "    state = getRandomCoin()\n",
    "    action = np.random.randint(0,num_options)# training by  getting random action everyloop\n",
    "    w = getWeight(state, action) #1 weight in the weights array\n",
    "    \n",
    "    reward = getReward(coinsvalues[state][action]) #getReward(valueofchoice) but button chosen is depended on state,action in the array\n",
    "    \n",
    "    loss =-(np.log(w)*reward) #cost which is related to weight and reward which is to be minimised\n",
    "    # log func used so that gradual inc for inc in w \n",
    "    \n",
    "    weights[state][action] = weights[state][action]+lr*reward*(1/w) #differentiate loss func for backtracking, in diff rewarrd is indep of w and thus like a constant  hence comes out of the dist\n",
    "    \n",
    "    # show-off\n",
    "\n",
    "    total_rewards[state][action] += reward\n",
    "    if i%50==0:\n",
    "        print(\"rewards :\\n\" +str(total_rewards))\n",
    "    \n",
    "    i+=1\n",
    "    \n",
    "    "
   ]
  },
  {
   "cell_type": "code",
   "execution_count": 38,
   "metadata": {},
   "outputs": [
    {
     "name": "stdout",
     "output_type": "stream",
     "text": [
      "[[ 0.8809805   0.88888566]\n",
      " [ 0.90005846  1.0963996 ]\n",
      " [ 1.09731167  0.89894742]\n",
      " [ 1.08907546  0.89672122]\n",
      " [ 1.09457316  0.89560605]]\n"
     ]
    }
   ],
   "source": [
    "print(weights)\n"
   ]
  },
  {
   "cell_type": "code",
   "execution_count": 39,
   "metadata": {},
   "outputs": [
    {
     "name": "stdout",
     "output_type": "stream",
     "text": [
      "0-heads and 1-tails\n",
      "option: 2 for coin: 1\n",
      "option: 2 for coin: 2\n",
      "option: 1 for coin: 3\n",
      "option: 1 for coin: 4\n",
      "option: 1 for coin: 5\n"
     ]
    }
   ],
   "source": [
    "print(\"0-heads and 1-tails\")\n",
    "for a in range(num_coins):\n",
    "    print(\"option: \" + str(np.argmax(weights[a])+1) + \" for coin: \"+ str(a+1))\n",
    "    "
   ]
  },
  {
   "cell_type": "code",
   "execution_count": null,
   "metadata": {
    "collapsed": true
   },
   "outputs": [],
   "source": []
  },
  {
   "cell_type": "code",
   "execution_count": null,
   "metadata": {
    "collapsed": true
   },
   "outputs": [],
   "source": []
  },
  {
   "cell_type": "code",
   "execution_count": null,
   "metadata": {
    "collapsed": true
   },
   "outputs": [],
   "source": []
  }
 ],
 "metadata": {
  "kernelspec": {
   "display_name": "Python 2",
   "language": "python",
   "name": "python2"
  },
  "language_info": {
   "codemirror_mode": {
    "name": "ipython",
    "version": 2
   },
   "file_extension": ".py",
   "mimetype": "text/x-python",
   "name": "python",
   "nbconvert_exporter": "python",
   "pygments_lexer": "ipython2",
   "version": "2.7.12"
  }
 },
 "nbformat": 4,
 "nbformat_minor": 2
}
