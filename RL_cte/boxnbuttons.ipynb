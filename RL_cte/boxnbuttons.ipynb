{
 "cells": [
  {
   "cell_type": "code",
   "execution_count": 88,
   "metadata": {
    "collapsed": true
   },
   "outputs": [],
   "source": [
    "# state,action --> reward\n",
    "\n",
    "import numpy as np\n",
    "np.random.seed(42)\n"
   ]
  },
  {
   "cell_type": "code",
   "execution_count": 89,
   "metadata": {
    "collapsed": true
   },
   "outputs": [],
   "source": [
    "boxes = np.array ([[0.2,2,-0.3,-3],\n",
    "                   [-4,-1,0.3,3],\n",
    "                   [-2,-0.5,0.6,1]])\n",
    "num_boxes = 3\n",
    "num_buttons = 4\n"
   ]
  },
  {
   "cell_type": "code",
   "execution_count": 90,
   "metadata": {
    "collapsed": true
   },
   "outputs": [],
   "source": [
    "def getReward(button):\n",
    "    x=np.random.randn(1)\n",
    "    if x > button:\n",
    "        return 1\n",
    "    else:\n",
    "        return -1\n",
    "    #this is the game"
   ]
  },
  {
   "cell_type": "code",
   "execution_count": 91,
   "metadata": {
    "collapsed": true
   },
   "outputs": [],
   "source": [
    "def getRandombox():\n",
    "    state = np.random.randint(0,num_boxes)\n",
    "    return state\n"
   ]
  },
  {
   "cell_type": "code",
   "execution_count": 92,
   "metadata": {
    "collapsed": true
   },
   "outputs": [],
   "source": [
    "weights = np.ones([num_boxes,num_buttons])"
   ]
  },
  {
   "cell_type": "code",
   "execution_count": 93,
   "metadata": {},
   "outputs": [
    {
     "name": "stdout",
     "output_type": "stream",
     "text": [
      "[[ 1.  1.  1.  1.]\n",
      " [ 1.  1.  1.  1.]\n",
      " [ 1.  1.  1.  1.]]\n"
     ]
    }
   ],
   "source": [
    "print weights"
   ]
  },
  {
   "cell_type": "code",
   "execution_count": 94,
   "metadata": {
    "collapsed": true
   },
   "outputs": [],
   "source": [
    "def getWeight(state, action):\n",
    "    return weights[state][action] #built-in"
   ]
  },
  {
   "cell_type": "code",
   "execution_count": 95,
   "metadata": {},
   "outputs": [],
   "source": [
    "total_episodes = 1000\n",
    "total_rewards = np.zeros([num_boxes,num_buttons])\n",
    "i = 0 # loop parameter\n",
    "lr = 0.001 # Learning rate"
   ]
  },
  {
   "cell_type": "code",
   "execution_count": 96,
   "metadata": {
    "scrolled": true
   },
   "outputs": [
    {
     "name": "stdout",
     "output_type": "stream",
     "text": [
      "rewards for 3 boxes is\n",
      "[[ 0.  0.  0.  0.]\n",
      " [ 0.  0.  0.  0.]\n",
      " [ 0.  0.  0. -1.]]\n",
      "rewards for 3 boxes is\n",
      "[[-1. -2. -1.  5.]\n",
      " [ 5.  1. -2. -4.]\n",
      " [ 4.  4. -3. -3.]]\n",
      "rewards for 3 boxes is\n",
      "[[ -6.  -3.  -3.  12.]\n",
      " [ 11.   2.  -1. -10.]\n",
      " [  5.   9.  -8.  -9.]]\n",
      "rewards for 3 boxes is\n",
      "[[ -6.  -4.  -4.  20.]\n",
      " [ 16.   7.  -5. -11.]\n",
      " [ 11.  11.  -8. -14.]]\n",
      "rewards for 3 boxes is\n",
      "[[-11. -10.  -3.  25.]\n",
      " [ 19.   6.  -5. -12.]\n",
      " [ 15.  11.  -8. -18.]]\n",
      "rewards for 3 boxes is\n",
      "[[-15. -17.  -2.  27.]\n",
      " [ 23.  10.  -4. -18.]\n",
      " [ 19.  13.  -8. -19.]]\n",
      "rewards for 3 boxes is\n",
      "[[-17. -22.  -4.  32.]\n",
      " [ 29.  12.  -7. -19.]\n",
      " [ 21.  14. -10. -22.]]\n",
      "rewards for 3 boxes is\n",
      "[[-16. -28.  -2.  38.]\n",
      " [ 31.  16.  -5. -20.]\n",
      " [ 21.  18.  -8. -26.]]\n",
      "rewards for 3 boxes is\n",
      "[[-15. -34.   2.  41.]\n",
      " [ 35.  20.  -4. -20.]\n",
      " [ 24.  19.  -9. -30.]]\n",
      "rewards for 3 boxes is\n",
      "[[-12. -39.   5.  44.]\n",
      " [ 38.  23.  -4. -22.]\n",
      " [ 27.  23. -14. -30.]]\n",
      "rewards for 3 boxes is\n",
      "[[-12. -40.   3.  47.]\n",
      " [ 41.  23.   0. -25.]\n",
      " [ 34.  24. -15. -33.]]\n",
      "rewards for 3 boxes is\n",
      "[[-12. -48.   4.  48.]\n",
      " [ 44.  26.   2. -29.]\n",
      " [ 37.  24. -16. -33.]]\n",
      "rewards for 3 boxes is\n",
      "[[-15. -49.   3.  50.]\n",
      " [ 51.  30.   3. -35.]\n",
      " [ 40.  24. -14. -35.]]\n",
      "rewards for 3 boxes is\n",
      "[[-15. -50.   3.  55.]\n",
      " [ 55.  33.   3. -40.]\n",
      " [ 44.  26. -16. -37.]]\n",
      "rewards for 3 boxes is\n",
      "[[-13. -56.   3.  58.]\n",
      " [ 62.  36.   3. -46.]\n",
      " [ 48.  30. -16. -42.]]\n",
      "rewards for 3 boxes is\n",
      "[[-18. -59.   2.  63.]\n",
      " [ 65.  37.   3. -54.]\n",
      " [ 55.  32. -15. -46.]]\n",
      "rewards for 3 boxes is\n",
      "[[-21. -61.   4.  65.]\n",
      " [ 69.  41.   4. -60.]\n",
      " [ 60.  34. -13. -49.]]\n",
      "rewards for 3 boxes is\n",
      "[[-24. -65.   5.  71.]\n",
      " [ 75.  41.   2. -62.]\n",
      " [ 63.  36. -14. -47.]]\n",
      "rewards for 3 boxes is\n",
      "[[-23. -66.   7.  76.]\n",
      " [ 77.  47.  -2. -69.]\n",
      " [ 65.  35. -17. -49.]]\n",
      "rewards for 3 boxes is\n",
      "[[-25. -70.  10.  81.]\n",
      " [ 80.  48.  -2. -73.]\n",
      " [ 68.  34. -24. -54.]]\n"
     ]
    }
   ],
   "source": [
    "while i < total_episodes:\n",
    "    state = getRandombox()\n",
    "    action = np.random.randint(0,num_buttons)# training by  getting random action everyloop\n",
    "    w = getWeight(state, action) #1 weight in the weights array\n",
    "    \n",
    "    reward = getReward(boxes[state][action]) #getReward(buttons) but button chosen is depended on state,action in the array\n",
    "    \n",
    "    loss =-(np.log(w)*reward) #cost which is related to weight and reward which is to be minimised\n",
    "    # log func used so that gradual inc for inc in w \n",
    "    \n",
    "    weights[state][action] = weights[state][action]+lr*reward*(1/w) #differentiate loss func for backtracking, in diff rewarrd is indep of w and thus like a constant  hence comes out of the dist\n",
    "    \n",
    "    # show-off\n",
    "\n",
    "    total_rewards[state][action] += reward\n",
    "    if i%50==0:\n",
    "        print(\"rewards for 3 boxes is\\n\" +str(total_rewards))\n",
    "    \n",
    "    i+=1\n",
    "    \n",
    "    \n",
    "    "
   ]
  },
  {
   "cell_type": "code",
   "execution_count": 97,
   "metadata": {
    "scrolled": true
   },
   "outputs": [
    {
     "name": "stdout",
     "output_type": "stream",
     "text": [
      "[[ 0.97267238  0.91765238  1.01098003  1.07892439]\n",
      " [ 1.07799589  1.04789268  0.9950363   0.92091386]\n",
      " [ 1.07054664  1.0354143   0.97574686  0.94132624]]\n"
     ]
    }
   ],
   "source": [
    "print(weights)"
   ]
  },
  {
   "cell_type": "code",
   "execution_count": 98,
   "metadata": {},
   "outputs": [
    {
     "name": "stdout",
     "output_type": "stream",
     "text": [
      "button- 4 for box- 1\n",
      "button- 1 for box- 2\n",
      "button- 1 for box- 3\n"
     ]
    }
   ],
   "source": [
    "for a in range(num_boxes):\n",
    "    print(\"button- \" + str(np.argmax(weights[a])+1) + \" for box- \"+ str(a+1))"
   ]
  },
  {
   "cell_type": "code",
   "execution_count": null,
   "metadata": {
    "collapsed": true
   },
   "outputs": [],
   "source": []
  },
  {
   "cell_type": "code",
   "execution_count": null,
   "metadata": {
    "collapsed": true
   },
   "outputs": [],
   "source": []
  },
  {
   "cell_type": "code",
   "execution_count": null,
   "metadata": {
    "collapsed": true
   },
   "outputs": [],
   "source": []
  },
  {
   "cell_type": "code",
   "execution_count": null,
   "metadata": {
    "collapsed": true
   },
   "outputs": [],
   "source": []
  }
 ],
 "metadata": {
  "kernelspec": {
   "display_name": "Python 2",
   "language": "python",
   "name": "python2"
  },
  "language_info": {
   "codemirror_mode": {
    "name": "ipython",
    "version": 2
   },
   "file_extension": ".py",
   "mimetype": "text/x-python",
   "name": "python",
   "nbconvert_exporter": "python",
   "pygments_lexer": "ipython2",
   "version": "2.7.12"
  }
 },
 "nbformat": 4,
 "nbformat_minor": 2
}
