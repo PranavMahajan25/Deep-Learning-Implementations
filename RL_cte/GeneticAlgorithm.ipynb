{
 "cells": [
  {
   "cell_type": "code",
   "execution_count": 2,
   "metadata": {},
   "outputs": [
    {
     "name": "stderr",
     "output_type": "stream",
     "text": [
      "[2017-11-07 16:33:33,735] Making new env: FrozenLake-v0\n"
     ]
    },
    {
     "name": "stdout",
     "output_type": "stream",
     "text": [
      "Generation 1 : max score = 0.20\n",
      "Generation 2 : max score = 0.30\n",
      "Generation 3 : max score = 0.60\n",
      "Generation 4 : max score = 0.66\n",
      "Generation 5 : max score = 0.79\n",
      "Generation 6 : max score = 0.84\n",
      "Generation 7 : max score = 0.80\n",
      "Generation 8 : max score = 0.78\n",
      "Generation 9 : max score = 0.79\n",
      "Generation 10 : max score = 0.80\n",
      "Generation 11 : max score = 0.80\n",
      "Generation 12 : max score = 0.80\n",
      "Generation 13 : max score = 0.82\n",
      "Generation 14 : max score = 0.80\n",
      "Generation 15 : max score = 0.86\n",
      "Generation 16 : max score = 0.81\n",
      "Generation 17 : max score = 0.81\n",
      "Generation 18 : max score = 0.78\n",
      "Generation 19 : max score = 0.84\n",
      "Generation 20 : max score = 0.79\n",
      "Best policy score = 0.85. Time taken = 108.8958\n"
     ]
    }
   ],
   "source": [
    "import numpy as np\n",
    "import random\n",
    "import time\n",
    "import gym\n",
    "from gym import wrappers\n",
    "\n",
    "def run_episode(env, policy, episode_len=100):\n",
    "    total_reward = 0\n",
    "    obs = env.reset()\n",
    "    for t in range(episode_len):\n",
    "        # env.render()\n",
    "        action = policy[obs]\n",
    "        obs, reward, done, _ = env.step(action)\n",
    "        total_reward += reward\n",
    "        if done:\n",
    "            # print('Epside finished after {} timesteps.'.format(t+1))\n",
    "            break\n",
    "    return total_reward\n",
    "\n",
    "def evaluate_policy(env, policy, n_episodes=100):\n",
    "    total_rewards = 0.0\n",
    "    for _ in range(n_episodes):\n",
    "        total_rewards += run_episode(env, policy)\n",
    "    return total_rewards / n_episodes\n",
    "\n",
    "def gen_random_policy():\n",
    "    return np.random.choice(4, size=((16)))\n",
    "\n",
    "def crossover(policy1, policy2):\n",
    "    new_policy = policy1.copy()\n",
    "    for i in range(16):\n",
    "        rand = np.random.uniform()\n",
    "        if rand > 0.5:\n",
    "            new_policy[i] = policy2[i]\n",
    "    return new_policy\n",
    "\n",
    "def mutation(policy, p=0.05):\n",
    "    new_policy = policy.copy()\n",
    "    for i in range(16):\n",
    "        rand = np.random.uniform()\n",
    "        if rand < p:\n",
    "            new_policy[i] = np.random.choice(4)\n",
    "    return new_policy\n",
    "\n",
    "if __name__ == '__main__':\n",
    "    random.seed(1234)\n",
    "    np.random.seed(1234)\n",
    "    env = gym.make('FrozenLake-v0')\n",
    "    env.seed(0)\n",
    "    # env = wrappers.Monitor(env, '/tmp/frozenlake1', force=True)\n",
    "    ## Policy search\n",
    "    n_policy = 100\n",
    "    n_steps = 20\n",
    "    start = time.time()\n",
    "    policy_pop = [gen_random_policy() for _ in range(n_policy)]\n",
    "    for idx in range(n_steps):\n",
    "        policy_scores = [evaluate_policy(env, p) for p in policy_pop]\n",
    "        print('Generation %d : max score = %0.2f' %(idx+1, max(policy_scores)))\n",
    "        policy_ranks = list(reversed(np.argsort(policy_scores)))\n",
    "        elite_set = [policy_pop[x] for x in policy_ranks[:5]]\n",
    "        select_probs = np.array(policy_scores) / np.sum(policy_scores)\n",
    "        child_set = [crossover(\n",
    "            policy_pop[np.random.choice(range(n_policy), p=select_probs)], \n",
    "            policy_pop[np.random.choice(range(n_policy), p=select_probs)])\n",
    "            for _ in range(n_policy - 5)]\n",
    "        mutated_list = [mutation(p) for p in child_set]\n",
    "        policy_pop = elite_set\n",
    "        policy_pop += mutated_list\n",
    "    policy_score = [evaluate_policy(env, p) for p in policy_pop]\n",
    "    best_policy = policy_pop[np.argmax(policy_score)]\n",
    "\n",
    "    end = time.time()\n",
    "    print('Best policy score = %0.2f. Time taken = %4.4f'\n",
    "            %(np.max(policy_score), (end-start)))    "
   ]
  },
  {
   "cell_type": "code",
   "execution_count": 3,
   "metadata": {
    "collapsed": true
   },
   "outputs": [],
   "source": [
    "def gen_random_policy():\n",
    "    return np.random.choice(4, size=((16)))"
   ]
  },
  {
   "cell_type": "code",
   "execution_count": 4,
   "metadata": {
    "collapsed": true
   },
   "outputs": [],
   "source": [
    "def run_episode(env, policy, episode_len=100):\n",
    "    total_reward = 0\n",
    "    obs = env.reset()\n",
    "    for t in range(episode_len):\n",
    "        # env.render()\n",
    "        action = policy[obs]\n",
    "        obs, reward, done, _ = env.step(action)\n",
    "        total_reward += reward\n",
    "        if done:\n",
    "            # print('Epside finished after {} timesteps.'.format(t+1))\n",
    "            break\n",
    "    return total_reward"
   ]
  },
  {
   "cell_type": "code",
   "execution_count": 5,
   "metadata": {
    "collapsed": true
   },
   "outputs": [],
   "source": [
    "def evaluate_policy(env, policy, n_episodes=100):\n",
    "    total_rewards = 0.0\n",
    "    for _ in range(n_episodes):\n",
    "        total_rewards += run_episode(env, policy)\n",
    "    return total_rewards / n_episodes"
   ]
  },
  {
   "cell_type": "code",
   "execution_count": 7,
   "metadata": {},
   "outputs": [
    {
     "name": "stderr",
     "output_type": "stream",
     "text": [
      "[2017-11-07 17:20:46,410] Making new env: FrozenLake-v0\n"
     ]
    },
    {
     "name": "stdout",
     "output_type": "stream",
     "text": [
      "Best score = 0.37. Time taken = 32.7593 seconds\n"
     ]
    }
   ],
   "source": [
    "env = gym.make('FrozenLake-v0')\n",
    "    ## Policy search\n",
    "n_policies = 2000\n",
    "start = time.time()\n",
    "policy_set = [gen_random_policy() for _ in range(n_policies)]\n",
    "policy_score = [evaluate_policy(env, p) for p in policy_set]\n",
    "end = time.time()\n",
    "\n",
    "print(\"Best score = %0.2f. Time taken = %4.4f seconds\" %(np.max(policy_score) , end - start))"
   ]
  },
  {
   "cell_type": "code",
   "execution_count": 8,
   "metadata": {
    "collapsed": true
   },
   "outputs": [],
   "source": [
    "def crossover(policy1, policy2):\n",
    "    new_policy = policy1.copy()\n",
    "    for i in range(16):\n",
    "        rand = np.random.uniform()\n",
    "        if rand > 0.5:\n",
    "            new_policy[i] = policy2[i]\n",
    "    return new_policy\n"
   ]
  },
  {
   "cell_type": "code",
   "execution_count": 9,
   "metadata": {
    "collapsed": true
   },
   "outputs": [],
   "source": [
    "\n",
    "def mutation(policy, p=0.05):\n",
    "    new_policy = policy.copy()\n",
    "    for i in range(16):\n",
    "        rand = np.random.uniform()\n",
    "        if rand < p:\n",
    "            new_policy[i] = np.random.choice(4)\n",
    "    return new_policy\n"
   ]
  },
  {
   "cell_type": "code",
   "execution_count": 11,
   "metadata": {},
   "outputs": [
    {
     "name": "stdout",
     "output_type": "stream",
     "text": [
      "Generation 1 : max score = 0.17\n",
      "Generation 2 : max score = 0.28\n",
      "Generation 3 : max score = 0.34\n",
      "Generation 4 : max score = 0.62\n",
      "Generation 5 : max score = 0.60\n",
      "Generation 6 : max score = 0.63\n",
      "Generation 7 : max score = 0.78\n",
      "Generation 8 : max score = 0.75\n",
      "Generation 9 : max score = 0.77\n",
      "Generation 10 : max score = 0.75\n",
      "Generation 11 : max score = 0.78\n",
      "Generation 12 : max score = 0.79\n",
      "Generation 13 : max score = 0.82\n",
      "Generation 14 : max score = 0.82\n",
      "Generation 15 : max score = 0.78\n",
      "Generation 16 : max score = 0.77\n",
      "Generation 17 : max score = 0.81\n",
      "Generation 18 : max score = 0.78\n",
      "Generation 19 : max score = 0.81\n",
      "Generation 20 : max score = 0.79\n",
      "Best policy score = 0.81. Time taken = 106.0406\n"
     ]
    }
   ],
   "source": [
    "start = time.time()\n",
    "policy_pop = [gen_random_policy() for _ in range(n_policy)]\n",
    "for idx in range(n_steps):\n",
    "    policy_scores = [evaluate_policy(env, p) for p in policy_pop]\n",
    "    print('Generation %d : max score = %0.2f' %(idx+1, max(policy_scores)))\n",
    "    policy_ranks = list(reversed(np.argsort(policy_scores)))\n",
    "    elite_set = [policy_pop[x] for x in policy_ranks[:5]]\n",
    "    select_probs = np.array(policy_scores) / np.sum(policy_scores)\n",
    "    child_set = [crossover(\n",
    "        policy_pop[np.random.choice(range(n_policy), p=select_probs)], \n",
    "        policy_pop[np.random.choice(range(n_policy), p=select_probs)])\n",
    "        for _ in range(n_policy - 5)]\n",
    "    mutated_list = [mutation(p) for p in child_set]\n",
    "    policy_pop = elite_set\n",
    "    policy_pop += mutated_list\n",
    "policy_score = [evaluate_policy(env, p) for p in policy_pop]\n",
    "best_policy = policy_pop[np.argmax(policy_score)]\n",
    "\n",
    "end = time.time()\n",
    "print('Best policy score = %0.2f. Time taken = %4.4f'\n",
    "        %(np.max(policy_score), (end-start)))  "
   ]
  },
  {
   "cell_type": "code",
   "execution_count": null,
   "metadata": {
    "collapsed": true
   },
   "outputs": [],
   "source": []
  }
 ],
 "metadata": {
  "kernelspec": {
   "display_name": "Python 2",
   "language": "python",
   "name": "python2"
  },
  "language_info": {
   "codemirror_mode": {
    "name": "ipython",
    "version": 2
   },
   "file_extension": ".py",
   "mimetype": "text/x-python",
   "name": "python",
   "nbconvert_exporter": "python",
   "pygments_lexer": "ipython2",
   "version": "2.7.12"
  }
 },
 "nbformat": 4,
 "nbformat_minor": 2
}
